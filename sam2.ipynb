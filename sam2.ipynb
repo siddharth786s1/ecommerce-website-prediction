{
  "nbformat": 4,
  "nbformat_minor": 0,
  "metadata": {
    "colab": {
      "provenance": []
    },
    "kernelspec": {
      "name": "python3",
      "display_name": "Python 3"
    },
    "language_info": {
      "name": "python"
    }
  },
  "cells": [
    {
      "cell_type": "code",
      "execution_count": 10,
      "metadata": {
        "id": "NdOF_snnPGI9"
      },
      "outputs": [],
      "source": [
        "import numpy as np\n",
        "import pandas as pd\n",
        "from scipy import stats\n",
        "import matplotlib.pyplot as plt\n",
        "from statsmodels.stats.proportion import proportions_ztest\n"
      ]
    },
    {
      "cell_type": "code",
      "source": [
        "np.random.seed(42)\n",
        "n_A, p_A =10_000 ,0.10\n",
        "n_B ,p_B =10_000 ,0.12\n",
        "success_A =np.random.binomial(n_A,p_A)\n",
        "success_B =np.random.binomial(n_B,p_B)"
      ],
      "metadata": {
        "id": "Xm4PFcA7SgHK"
      },
      "execution_count": 2,
      "outputs": []
    },
    {
      "cell_type": "code",
      "source": [
        "def proportion_ci(successes ,n, alpha=0.05):\n",
        "  p_hat=successes/n\n",
        "  z=stats.norm.ppf(1-alpha/2)\n",
        "  se=np.sqrt(p_hat*(1-p_hat)/n)\n",
        "  return p_hat, p_hat - z*se,p_hat + z*se\n",
        "\n",
        "p_A_hat,ci_low_A,ci_high_A=proportion_ci(success_A,n_A)\n",
        "p_B_hat,ci_low_B,ci_high_B=proportion_ci(success_B,n_B)\n",
        "\n",
        "\n",
        "results=pd.DataFrame({\n",
        "    'variant':['A','B'],\n",
        "    'visitors':[n_A,n_B],\n",
        "    'conversion':[success_A,success_B],\n",
        "    'CR(^p)':[p_A_hat,p_B_hat],\n",
        "    'CI_low':[ci_low_A,ci_low_B],\n",
        "    'CI_high':[ci_high_A,ci_high_B]\n",
        "})\n",
        "print(results)\n"
      ],
      "metadata": {
        "colab": {
          "base_uri": "https://localhost:8080/"
        },
        "id": "qFSas5CbTgU1",
        "outputId": "6c0dc82c-452d-4b4c-e961-1cfbdfb2376c"
      },
      "execution_count": 3,
      "outputs": [
        {
          "output_type": "stream",
          "name": "stdout",
          "text": [
            "  variant  visitors  conversion  CR(^p)    CI_low   CI_high\n",
            "0       A     10000         973  0.0973  0.091491  0.103109\n",
            "1       B     10000        1134  0.1134  0.107185  0.119615\n"
          ]
        }
      ]
    },
    {
      "cell_type": "code",
      "source": [
        "plt.figure(figsize=(6,4))\n",
        "plt.bar(\n",
        "    results['variant'],\n",
        "    results['CR(^p)'],\n",
        "    yerr=[\n",
        "          results['CR(^p)']-results['CI_low'],\n",
        "          results['CI_high']-results['CR(^p)']\n",
        "    ],\n",
        "    capsize=4,\n",
        "    color='blue'\n",
        ")\n",
        "\n",
        "\n",
        "\n",
        "\n",
        "plt.ylabel('conversion rate')\n",
        "plt.title('conversion rate comparison')\n",
        "plt.ylim(0,max(results['CI_high'])+0.02)\n",
        "plt.show()"
      ],
      "metadata": {
        "colab": {
          "base_uri": "https://localhost:8080/",
          "height": 391
        },
        "id": "rQGLk7yXYbXc",
        "outputId": "5a2c3ebd-54fb-4aed-f0a4-c09abe3ea784"
      },
      "execution_count": 4,
      "outputs": [
        {
          "output_type": "display_data",
          "data": {
            "text/plain": [
              "<Figure size 600x400 with 1 Axes>"
            ],
            "image/png": "[encoded data removed]"
          },
          "metadata": {}
        }
      ]
    },
    {
      "cell_type": "code",
      "source": [
        "count=np.array([success_A,success_B])\n",
        "nobs=np.array([n_A,n_B])\n",
        "\n",
        "z_stat,p_value=proportions_ztest(count,nobs,alternative='larger')\n",
        "print(f\"Z-stats:{z_stat:.3f}\")\n",
        "print(f'p-value:{p_value:.3f}')\n",
        "\n",
        "if p_value<0.05:\n",
        "  print('Reject the null hypothesis')\n",
        "else:\n",
        "  print('Fail to reject the null hypothesis')"
      ],
      "metadata": {
        "colab": {
          "base_uri": "https://localhost:8080/",
          "height": 211
        },
        "id": "GnSUJ1Psa128",
        "outputId": "ce873647-ede2-4116-e477-79f497ac4512"
      },
      "execution_count": 11,
      "outputs": [
        {
          "output_type": "error",
          "ename": "NameError",
          "evalue": "name 'success_A' is not defined",
          "traceback": [
            "\u001b[0;31m---------------------------------------------------------------------------\u001b[0m",
            "\u001b[0;31mNameError\u001b[0m                                 Traceback (most recent call last)",
            "\u001b[0;32m/tmp/ipython-input-11-1961772518.py\u001b[0m in \u001b[0;36m<cell line: 0>\u001b[0;34m()\u001b[0m\n\u001b[0;32m----> 1\u001b[0;31m \u001b[0mcount\u001b[0m\u001b[0;34m=\u001b[0m\u001b[0mnp\u001b[0m\u001b[0;34m.\u001b[0m\u001b[0marray\u001b[0m\u001b[0;34m(\u001b[0m\u001b[0;34m[\u001b[0m\u001b[0msuccess_A\u001b[0m\u001b[0;34m,\u001b[0m\u001b[0msuccess_B\u001b[0m\u001b[0;34m]\u001b[0m\u001b[0;34m)\u001b[0m\u001b[0;34m\u001b[0m\u001b[0;34m\u001b[0m\u001b[0m\n\u001b[0m\u001b[1;32m      2\u001b[0m \u001b[0mnobs\u001b[0m\u001b[0;34m=\u001b[0m\u001b[0mnp\u001b[0m\u001b[0;34m.\u001b[0m\u001b[0marray\u001b[0m\u001b[0;34m(\u001b[0m\u001b[0;34m[\u001b[0m\u001b[0mn_A\u001b[0m\u001b[0;34m,\u001b[0m\u001b[0mn_B\u001b[0m\u001b[0;34m]\u001b[0m\u001b[0;34m)\u001b[0m\u001b[0;34m\u001b[0m\u001b[0;34m\u001b[0m\u001b[0m\n\u001b[1;32m      3\u001b[0m \u001b[0;34m\u001b[0m\u001b[0m\n\u001b[1;32m      4\u001b[0m \u001b[0mz_stat\u001b[0m\u001b[0;34m,\u001b[0m\u001b[0mp_value\u001b[0m\u001b[0;34m=\u001b[0m\u001b[0mproportions_ztest\u001b[0m\u001b[0;34m(\u001b[0m\u001b[0mcount\u001b[0m\u001b[0;34m,\u001b[0m\u001b[0mnobs\u001b[0m\u001b[0;34m,\u001b[0m\u001b[0malternative\u001b[0m\u001b[0;34m=\u001b[0m\u001b[0;34m'larger'\u001b[0m\u001b[0;34m)\u001b[0m\u001b[0;34m\u001b[0m\u001b[0;34m\u001b[0m\u001b[0m\n\u001b[1;32m      5\u001b[0m \u001b[0mprint\u001b[0m\u001b[0;34m(\u001b[0m\u001b[0;34mf\"Z-stats:{z_stat:.3f}\"\u001b[0m\u001b[0;34m)\u001b[0m\u001b[0;34m\u001b[0m\u001b[0;34m\u001b[0m\u001b[0m\n",
            "\u001b[0;31mNameError\u001b[0m: name 'success_A' is not defined"
          ]
        }
      ]
    },
    {
      "cell_type": "code",
      "source": [
        "import numpy as np ,matplotlib.pyplot as plt ,time\n",
        "from statsmodels.stats.proportion import proportions_ztest\n",
        "from IPython.display import clear_output\n",
        "\n",
        "true_p_A,true_p_B=0.10,0.12\n",
        "batch_size=100\n",
        "n_batches=60\n",
        "\n",
        "\n",
        "n_visits_A=0\n",
        "n_visitis_B=0\n",
        "n_succ_A=n_succ_B=0\n",
        "\n",
        "batches=[]\n",
        "p_value=[]\n",
        "lifts=[]"
      ],
      "metadata": {
        "id": "2FHL4vZlchpT"
      },
      "execution_count": 4,
      "outputs": []
    },
    {
      "cell_type": "code",
      "source": [
        "for batch in range(1,n_batches+1):\n",
        "  new_A=np.random.binomial(batch_size,true_p_A)\n",
        "  new_B=np.random.binomial(batch_size,true_p_B)\n",
        "\n",
        "  #update totals\n",
        "  n_visits_A +=batch_size\n",
        "  n_visitis_B +=batch_size\n",
        "  n_succ_A +=new_A\n",
        "  n_succ_B +=new_B\n",
        "\n",
        "\n",
        "  cr_A=n_succ_A/n_visits_A\n",
        "  cr_B=n_succ_B/n_visitis_B\n",
        "  lift=cr_B-cr_A\n",
        "\n",
        "  count=np.array([n_succ_A,n_succ_B])\n",
        "  nobs=np.array([n_visitis_B,n_visits_A])\n",
        "  z_stat,p_val=proportions_ztest(count,nobs,alternative='larger')\n",
        "\n",
        "  batches.append(batch)\n",
        "  # p_value.append(p_val)\n",
        "  p_value.append(p_val)\n",
        "  lifts.append(lift)\n",
        "\n",
        "  clear_output(wait=True)"
      ],
      "metadata": {
        "id": "YUJy7LuO_M7M"
      },
      "execution_count": 8,
      "outputs": []
    },
    {
      "cell_type": "code",
      "source": [
        "p_value"
      ],
      "metadata": {
        "colab": {
          "base_uri": "https://localhost:8080/"
        },
        "id": "-O1Ox-Ro_AEw",
        "outputId": "d99bc1e2-4caa-46a6-87ae-b43fba3f8445"
      },
      "execution_count": 9,
      "outputs": [
        {
          "output_type": "execute_result",
          "data": {
            "text/plain": [
              "[np.float64(0.9999909488105273),\n",
              " np.float64(0.9999873415019729),\n",
              " np.float64(0.9999856585943673),\n",
              " np.float64(0.999986924068761),\n",
              " np.float64(0.999982977681831),\n",
              " np.float64(0.9999920027690117),\n",
              " np.float64(0.9999953573408346),\n",
              " np.float64(0.9999966602650021),\n",
              " np.float64(0.9999958731329256),\n",
              " np.float64(0.9999956088284603),\n",
              " np.float64(0.9999963470618769),\n",
              " np.float64(0.999996937310866),\n",
              " np.float64(0.9999982606195265),\n",
              " np.float64(0.9999987691910363),\n",
              " np.float64(0.9999988855581433),\n",
              " np.float64(0.9999989255991665),\n",
              " np.float64(0.9999988609961297),\n",
              " np.float64(0.9999993535097919),\n",
              " np.float64(0.9999995067460168),\n",
              " np.float64(0.9999993316908039),\n",
              " np.float64(0.9999993402300167),\n",
              " np.float64(0.9999993548263497),\n",
              " np.float64(0.9999992438650293),\n",
              " np.float64(0.9999991237831904),\n",
              " np.float64(0.9999992133613598),\n",
              " np.float64(0.999999097805867),\n",
              " np.float64(0.9999993066904544),\n",
              " np.float64(0.9999993285509865),\n",
              " np.float64(0.9999993889274693),\n",
              " np.float64(0.9999994893452075),\n",
              " np.float64(0.9999996879962095),\n",
              " np.float64(0.9999996082993374),\n",
              " np.float64(0.9999994713219602),\n",
              " np.float64(0.9999996757287621),\n",
              " np.float64(0.9999995995123753),\n",
              " np.float64(0.9999996067498639),\n",
              " np.float64(0.9999996138826289),\n",
              " np.float64(0.9999998287851648),\n",
              " np.float64(0.9999998877675118),\n",
              " np.float64(0.9999998811723667),\n",
              " np.float64(0.9999998837017072),\n",
              " np.float64(0.9999998867358186),\n",
              " np.float64(0.9999998801681513),\n",
              " np.float64(0.9999999076794216),\n",
              " np.float64(0.999999956789396),\n",
              " np.float64(0.9999999674118565),\n",
              " np.float64(0.9999999678951917),\n",
              " np.float64(0.9999999687004276),\n",
              " np.float64(0.999999960804521),\n",
              " np.float64(0.9999999671024554),\n",
              " np.float64(0.9999999518239684),\n",
              " np.float64(0.9999999528308217),\n",
              " np.float64(0.9999999601627255),\n",
              " np.float64(0.9999999668669911),\n",
              " np.float64(0.999999985019107),\n",
              " np.float64(0.9999999808967452),\n",
              " np.float64(0.999999988408385),\n",
              " np.float64(0.9999999830701124),\n",
              " np.float64(0.999999965428553),\n",
              " np.float64(0.9999999780850766)]"
            ]
          },
          "metadata": {},
          "execution_count": 9
        }
      ]
    },
    {
      "cell_type": "code",
      "source": [],
      "metadata": {
        "id": "3BHrtM7PivXt"
      },
      "execution_count": null,
      "outputs": []
    }
  ]
}